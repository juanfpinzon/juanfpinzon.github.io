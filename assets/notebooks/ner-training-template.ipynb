{
 "cells": [
  {
   "cell_type": "markdown",
   "metadata": {},
   "source": [
    "### Imports"
   ]
  },
  {
   "cell_type": "code",
   "execution_count": null,
   "metadata": {},
   "outputs": [],
   "source": [
    "from IPython.core.display import display, HTML\n",
    "display(HTML('<style>.container { width:80% !important; }</style>'))\n",
    "%config InlineBackend.figure_format = 'retina'"
   ]
  },
  {
   "cell_type": "code",
   "execution_count": null,
   "metadata": {},
   "outputs": [],
   "source": [
    "from pathlib import Path\n",
    "from subprocess import PIPE, Popen\n",
    "from typing import List\n",
    "\n",
    "import flair\n",
    "import torch\n",
    "from flair.data import Corpus\n",
    "from flair.datasets import ColumnCorpus\n",
    "from flair.embeddings import (FlairEmbeddings, StackedEmbeddings,\n",
    "                              TokenEmbeddings, WordEmbeddings)\n",
    "from flair.models import SequenceTagger\n",
    "from flair.trainers import ModelTrainer\n",
    "from flair.visual.training_curves import Plotter\n",
    "\n",
    "from helpers import get_gittag\n",
    "from test_funcs import test_paths"
   ]
  },
  {
   "cell_type": "code",
   "execution_count": null,
   "metadata": {},
   "outputs": [],
   "source": [
    "# if in need set device here\n",
    "DEVICE_ID = 1\n",
    "flair.device = torch.device(f'cuda:{DEVICE_ID}')\n",
    "print(flair.device)"
   ]
  },
  {
   "cell_type": "code",
   "execution_count": null,
   "metadata": {},
   "outputs": [],
   "source": [
    "GIT_TAG = get_gittag()\n",
    "print(f'Current git tag is: {GIT_TAG}')"
   ]
  },
  {
   "cell_type": "markdown",
   "metadata": {},
   "source": [
    "### Prepare Data"
   ]
  },
  {
   "cell_type": "code",
   "execution_count": null,
   "metadata": {},
   "outputs": [],
   "source": [
    "ROOT_PATH = Path.cwd().parent\n",
    "print(f'Project path: {ROOT_PATH}')\n",
    "DATA_PATH = ROOT_PATH/'conll-data'\n",
    "print(f'Data path: {DATA_PATH}')\n",
    "TRAIN_FILE = 'train.conll'\n",
    "TEST_FILE = 'test.conll'"
   ]
  },
  {
   "cell_type": "code",
   "execution_count": null,
   "metadata": {
    "tags": [
     "parameters"
    ]
   },
   "outputs": [],
   "source": [
    "FINE_TUNED = 'ft_false'   # change the training folder name accordingly\n",
    "FRACTION = 1.0   # train on fraction of data\n",
    "BATCH_SZ = 8   # mini-batch size\n",
    "LR = 0.1   # default learning rate for flair tagger model\n",
    "DROPOUT = 0.0   # default dropout\n",
    "HIDDEN_SZ = 256   # hidden size of rnn model (use rnn is true by default)\n",
    "RNN_LAYERS = 1   # default number of rnn layers"
   ]
  },
  {
   "cell_type": "code",
   "execution_count": null,
   "metadata": {},
   "outputs": [],
   "source": [
    "TRAIN_FOLDER_NAME = f'resume-ner-{GIT_TAG}-frac-{FRACTION}-{FINE_TUNED}'"
   ]
  },
  {
   "cell_type": "code",
   "execution_count": null,
   "metadata": {
    "scrolled": true
   },
   "outputs": [],
   "source": [
    "test_paths(dirs=[ROOT_PATH, DATA_PATH], files=[DATA_PATH/TRAIN_FILE])"
   ]
  },
  {
   "cell_type": "markdown",
   "metadata": {},
   "source": [
    "### Create a Corpus "
   ]
  },
  {
   "cell_type": "code",
   "execution_count": null,
   "metadata": {},
   "outputs": [],
   "source": [
    "# what tag do we want to work with?\n",
    "TAG_TYPE = 'ner'"
   ]
  },
  {
   "cell_type": "code",
   "execution_count": null,
   "metadata": {
    "scrolled": true
   },
   "outputs": [],
   "source": [
    "# define columns\n",
    "columns = {0: 'text', 1: 'ner'}"
   ]
  },
  {
   "cell_type": "code",
   "execution_count": null,
   "metadata": {},
   "outputs": [],
   "source": [
    "# init a corpus using column format, data folder and the names of the train, dev and test files\n",
    "corpus: Corpus = ColumnCorpus(DATA_PATH, columns,\n",
    "                              train_file=TRAIN_FILE,\n",
    "                              test_file=TEST_FILE).downsample(percentage=FRACTION,\n",
    "                                                              only_downsample_train=True)"
   ]
  },
  {
   "cell_type": "code",
   "execution_count": null,
   "metadata": {},
   "outputs": [],
   "source": [
    "print(corpus)"
   ]
  },
  {
   "cell_type": "code",
   "execution_count": null,
   "metadata": {},
   "outputs": [],
   "source": [
    "len(corpus.train)"
   ]
  },
  {
   "cell_type": "code",
   "execution_count": null,
   "metadata": {},
   "outputs": [],
   "source": [
    "print(corpus.train[0].to_tagged_string(TAG_TYPE))"
   ]
  },
  {
   "cell_type": "code",
   "execution_count": null,
   "metadata": {
    "scrolled": true
   },
   "outputs": [],
   "source": [
    "stats = corpus.obtain_statistics(tag_type=TAG_TYPE)\n",
    "print(stats)"
   ]
  },
  {
   "cell_type": "markdown",
   "metadata": {},
   "source": [
    "### Prepare Model"
   ]
  },
  {
   "cell_type": "code",
   "execution_count": null,
   "metadata": {},
   "outputs": [],
   "source": [
    "# make the tag dictionary from the corpus\n",
    "tag_dictionary = corpus.make_tag_dictionary(tag_type=TAG_TYPE)\n",
    "print(tag_dictionary.idx2item)"
   ]
  },
  {
   "cell_type": "code",
   "execution_count": null,
   "metadata": {},
   "outputs": [],
   "source": [
    "# initialize embeddings\n",
    "embedding_types: List[TokenEmbeddings] = [\n",
    "\n",
    "    WordEmbeddings('crawl'),\n",
    "\n",
    "    # comment in this line to use character embeddings\n",
    "    # CharacterEmbeddings(),\n",
    "\n",
    "    # comment in these lines to use flair embeddings\n",
    "    FlairEmbeddings('news-forward'),\n",
    "    FlairEmbeddings('news-backward'),\n",
    "]"
   ]
  },
  {
   "cell_type": "code",
   "execution_count": null,
   "metadata": {},
   "outputs": [],
   "source": [
    "embeddings: StackedEmbeddings = StackedEmbeddings(embeddings=embedding_types)"
   ]
  },
  {
   "cell_type": "code",
   "execution_count": null,
   "metadata": {},
   "outputs": [],
   "source": [
    "# initialize sequence tagger\n",
    "tagger: SequenceTagger = SequenceTagger(hidden_size=HIDDEN_SZ,\n",
    "                                        embeddings=embeddings,\n",
    "                                        tag_dictionary=tag_dictionary,\n",
    "                                        tag_type=TAG_TYPE,\n",
    "                                        use_crf=True,\n",
    "                                        rnn_layers=RNN_LAYERS,\n",
    "                                        dropout=DROPOUT)"
   ]
  },
  {
   "cell_type": "code",
   "execution_count": null,
   "metadata": {},
   "outputs": [],
   "source": [
    "# initialize trainer\n",
    "trainer: ModelTrainer = ModelTrainer(tagger, corpus)"
   ]
  },
  {
   "cell_type": "code",
   "execution_count": null,
   "metadata": {},
   "outputs": [],
   "source": [
    "# # find learning rate\n",
    "# learning_rate_tsv = trainer.find_learning_rate(base_path='resources/taggers/debug-ner',\n",
    "#                                                file_name='learning_rate.tsv',\n",
    "#                                                mini_batch_size=8,\n",
    "#                                                start_learning_rate=1e-1)"
   ]
  },
  {
   "cell_type": "code",
   "execution_count": null,
   "metadata": {},
   "outputs": [],
   "source": [
    "# # plot the learning rate finder curve\n",
    "# plotter = Plotter()\n",
    "# plotter.plot_learning_rate(learning_rate_tsv)"
   ]
  },
  {
   "cell_type": "code",
   "execution_count": null,
   "metadata": {
    "scrolled": false
   },
   "outputs": [],
   "source": [
    "# start training\n",
    "trainer.train(base_path=f'resources/taggers/{TRAIN_FOLDER_NAME}',\n",
    "              learning_rate=LR,\n",
    "              mini_batch_size=BATCH_SZ,\n",
    "              max_epochs=120,\n",
    "              train_with_dev=False,\n",
    "              param_selection_mode=False,\n",
    "              anneal_factor=0.5,\n",
    "              patience=3,\n",
    "              monitor_train=True,\n",
    "              monitor_test=True,\n",
    "              embeddings_storage_mode='cpu')"
   ]
  },
  {
   "cell_type": "code",
   "execution_count": null,
   "metadata": {},
   "outputs": [],
   "source": [
    "# plot training curves (optional)\n",
    "plotter = Plotter()\n",
    "plotter.plot_training_curves(f'resources/taggers/{TRAIN_FOLDER_NAME}/loss.tsv')\n",
    "plotter.plot_weights(f'resources/taggers/{TRAIN_FOLDER_NAME}/weights.txt')"
   ]
  },
  {
   "cell_type": "code",
   "execution_count": null,
   "metadata": {},
   "outputs": [],
   "source": []
  }
 ],
 "metadata": {
  "celltoolbar": "Tags",
  "kernelspec": {
   "display_name": "resume-ner",
   "language": "python",
   "name": "resume-ner"
  },
  "language_info": {
   "codemirror_mode": {
    "name": "ipython",
    "version": 3
   },
   "file_extension": ".py",
   "mimetype": "text/x-python",
   "name": "python",
   "nbconvert_exporter": "python",
   "pygments_lexer": "ipython3",
   "version": "3.6.8"
  },
  "toc": {
   "base_numbering": 1,
   "nav_menu": {},
   "number_sections": true,
   "sideBar": true,
   "skip_h1_title": false,
   "title_cell": "Table of Contents",
   "title_sidebar": "Contents",
   "toc_cell": false,
   "toc_position": {
    "height": "calc(100% - 180px)",
    "left": "10px",
    "top": "150px",
    "width": "346.364px"
   },
   "toc_section_display": true,
   "toc_window_display": true
  }
 },
 "nbformat": 4,
 "nbformat_minor": 2
}
